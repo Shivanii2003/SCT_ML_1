{
  "nbformat": 4,
  "nbformat_minor": 0,
  "metadata": {
    "colab": {
      "provenance": []
    },
    "kernelspec": {
      "name": "python3",
      "display_name": "Python 3"
    },
    "language_info": {
      "name": "python"
    }
  },
  "cells": [
    {
      "cell_type": "code",
      "execution_count": null,
      "metadata": {
        "colab": {
          "base_uri": "https://localhost:8080/"
        },
        "id": "4h7UOZn7P6UN",
        "outputId": "b0196318-48b4-42b3-c9d1-15a098362e9b"
      },
      "outputs": [
        {
          "output_type": "stream",
          "name": "stdout",
          "text": [
            "Mean Squared Error: 154301652.89256123\n",
            "R² Score: 0.6142458677685969\n",
            "\n",
            "Model Coefficients:\n",
            "Square Foot Coefficient: 168.18\n",
            "Bedrooms Coefficient: 15272.73\n",
            "Bathrooms Coefficient: 15272.73\n",
            "Intercept: -27727.27\n",
            "\n",
            "Predicted Price for 2000 sq ft, 3 bedrooms, 2 bathrooms: $385,000.00\n"
          ]
        },
        {
          "output_type": "stream",
          "name": "stderr",
          "text": [
            "/usr/local/lib/python3.11/dist-packages/sklearn/utils/validation.py:2739: UserWarning: X does not have valid feature names, but LinearRegression was fitted with feature names\n",
            "  warnings.warn(\n"
          ]
        }
      ],
      "source": [
        "import numpy as np\n",
        "import pandas as pd\n",
        "from sklearn.linear_model import LinearRegression\n",
        "from sklearn.model_selection import train_test_split\n",
        "from sklearn.metrics import mean_squared_error, r2_score\n",
        "\n",
        "# Sample Dataset\n",
        "data = {\n",
        "    'Square_Feet': [1500, 2000, 2500, 1800, 2200, 1600, 2400, 2100, 1900, 2300],\n",
        "    'Bedrooms':     [3,    4,    4,    3,    4,    3,    4,    4,    3,    4],\n",
        "    'Bathrooms':    [2,    3,    3,    2,    3,    2,    3,    3,    2,    3],\n",
        "    'Price':       [300000, 400000, 500000, 350000, 450000, 320000, 480000, 430000, 360000, 470000]\n",
        "}\n",
        "\n",
        "# Create DataFrame\n",
        "df = pd.DataFrame(data)\n",
        "\n",
        "# Features and Target\n",
        "X = df[['Square_Feet', 'Bedrooms', 'Bathrooms']]\n",
        "y = df['Price']\n",
        "\n",
        "# Train-Test Split\n",
        "X_train, X_test, y_train, y_test = train_test_split(X, y, test_size=0.2, random_state=42)\n",
        "\n",
        "# Linear Regression Model\n",
        "model = LinearRegression()\n",
        "model.fit(X_train, y_train)\n",
        "\n",
        "# Predictions\n",
        "y_pred = model.predict(X_test)\n",
        "\n",
        "# Evaluation\n",
        "print(\"Mean Squared Error:\", mean_squared_error(y_test, y_pred))\n",
        "print(\"R² Score:\", r2_score(y_test, y_pred))\n",
        "\n",
        "# Coefficients\n",
        "print(\"\\nModel Coefficients:\")\n",
        "print(f\"Square Foot Coefficient: {model.coef_[0]:.2f}\")\n",
        "print(f\"Bedrooms Coefficient: {model.coef_[1]:.2f}\")\n",
        "print(f\"Bathrooms Coefficient: {model.coef_[2]:.2f}\")\n",
        "print(f\"Intercept: {model.intercept_:.2f}\")\n",
        "\n",
        "# Example Prediction\n",
        "example = np.array([[2000, 3, 2]])  # 2000 sq ft, 3 bedrooms, 2 bathrooms\n",
        "predicted_price = model.predict(example)\n",
        "print(f\"\\nPredicted Price for {example[0][0]} sq ft, {example[0][1]} bedrooms, {example[0][2]} bathrooms: ${predicted_price[0]:,.2f}\")\n"
      ]
    }
  ]
}